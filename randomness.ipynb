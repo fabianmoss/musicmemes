{
  "cells": [
    {
      "cell_type": "markdown",
      "metadata": {},
      "source": [
        "# Randomness and order {#sec-randomness}\n",
        "\n",
        "This course is about music and evolution,\n",
        "specifically about using computational models\n",
        "to better understand the mechanisms underlying certain evolutionary\n",
        "processes. In order to do so, we will often run simulations \n",
        "to observe and interpret the resulting scenarios against the backdrop\n",
        "of our modeling assumptions and our domain knowledge.\n",
        "\n",
        "Simulations are useful because for many situations we \n",
        "are not able to provide deterministic mathematical formulae to obtain \n",
        "outcomes from inputs. Rather, we incorporate our knowledge about the world\n",
        "in a computational model and use randomness to include the inherent uncertainty\n",
        "about the exact outcomes of the simulations.\n",
        "\n",
        ":::{.callout}\n",
        "Add section on probability.\n",
        ":::\n",
        "\n",
        "But randomness is a difficult concept to capture. \n",
        "For the purpose of this book, we will simulate a speficic kind of randomness\n",
        "by sampling from a certain set of items.\n",
        "Less technically, we can imagine a bag with a certain number of balls in it,\n",
        "each having a certain color (multiple balls can have the same color). \n",
        "A _random uniform sample with replacement_ then corresponds to picking a \n",
        "ball from the bag without looking in it and putting it back in the bag.\n",
        "\n",
        "## Random draws from a bag\n",
        "\n",
        "Let's try this in Python. We will use the `random` modul of the _NumPy_ library:\n"
      ],
      "id": "4152ee85"
    },
    {
      "cell_type": "code",
      "metadata": {},
      "source": [
        "import numpy as np\n",
        "rng = np.random.default_rng() # initialize a default random generator\n",
        "\n",
        "bag = range(4)\n",
        "ball = rng.choice(bag)\n",
        "\n",
        "print(ball)"
      ],
      "id": "9c232565",
      "execution_count": null,
      "outputs": []
    },
    {
      "cell_type": "markdown",
      "metadata": {},
      "source": [
        "If this draw were really random, we would expect that each number is equally likely.\n",
        "We can test this by repeating this procedure again and again, tallying the result each time.\n"
      ],
      "id": "ddae8a23"
    },
    {
      "cell_type": "code",
      "metadata": {},
      "source": [
        "import pandas as pd\n",
        "import matplotlib.pyplot as plt\n",
        "\n",
        "samples = []\n",
        "\n",
        "for i in range(1000):\n",
        "    ball = rng.choice(bag)\n",
        "    samples.append(ball)\n",
        "\n",
        "s = pd.Series(samples)\n",
        "\n",
        "print(s.head(10))\n",
        "print(s.value_counts().sort_index())"
      ],
      "id": "323dbc4d",
      "execution_count": null,
      "outputs": []
    },
    {
      "cell_type": "markdown",
      "metadata": {},
      "source": [
        "The number are not exactly the same but pretty close. If we would continue sampling\n",
        "from our bag, they would get more and more similar to one another.\n",
        "It is easier to understand this by visualizing it.\n"
      ],
      "id": "e62c2e17"
    },
    {
      "cell_type": "code",
      "metadata": {},
      "source": [
        "s.value_counts().sort_index().plot(kind=\"bar\")\n",
        "plt.show()"
      ],
      "id": "76a88efc",
      "execution_count": null,
      "outputs": []
    },
    {
      "cell_type": "markdown",
      "metadata": {},
      "source": [
        "Now, what if the numbers in the bag were not just numbered,\n",
        "but had different colors? Let's assume we have another bag, `bag2`,\n",
        "with 4 balls, three brown, one blue:\n"
      ],
      "id": "a4136e1a"
    },
    {
      "cell_type": "code",
      "metadata": {},
      "source": [
        "bag2 = [ \"blue\", \"blue\", \"blue\", \"brown\" ]\n",
        "\n",
        "samples2 = []\n",
        "\n",
        "for i in range(1000):\n",
        "    ball = np.random.choice(bag2)\n",
        "    samples2.append(ball)\n",
        "\n",
        "s2 = pd.Series(samples2)\n",
        "\n",
        "print(s2.head(10))\n",
        "print(s2.value_counts().sort_index())\n",
        "\n",
        "s2.value_counts().sort_index().plot(kind=\"bar\")\n",
        "plt.show()"
      ],
      "id": "718d9d98",
      "execution_count": null,
      "outputs": []
    },
    {
      "cell_type": "markdown",
      "metadata": {},
      "source": [
        "This is remarkable: by randomly (uniformly) drawing from the \n",
        "second bag, the frequencies of all samples approach the ratio of brown to blue\n",
        "balls (3:1)!\n",
        "\n",
        "## Composing random melodies\n",
        "\n",
        "Since this book is about music, let's see how we can use randomness \n",
        "to create (a resemblance of) music. For instance, we can 'compose'\n",
        "a random melody by using only the white keys on a piano within some octave:\n"
      ],
      "id": "8dc8eafa"
    },
    {
      "cell_type": "code",
      "metadata": {},
      "source": [
        "notes = list(\"CDEFGAB\")\n",
        "melody = rng.choice(notes, size=10)\n",
        "print(melody, end=\" \")"
      ],
      "id": "7027ea8c",
      "execution_count": null,
      "outputs": []
    },
    {
      "cell_type": "markdown",
      "metadata": {},
      "source": [
        "We composed a little melody by randomly drawing a note from the list of notes.\n",
        "This is also called _sampling_. Note that some notes repeat, showing that we \n",
        "sample with replacement: after each draw, the note is put back in the bag,\n",
        "so to speak. Of course, there are many things that we would have to generate, too, to make this a real melody. For instance, we do not know the duration of \n",
        "any of these notes, we don't know the meter nor the key, we don't know the\n",
        "tempo or volume, and so on. But our goal here is not to create a beautiful piece \n",
        "of music, but rather to show how we can use randomness to generate something.\n",
        "\n",
        "As you might remember from the previous chapter, we can also write a function \n",
        "to do this, so that we can perform this operation (composition of a random \n",
        "melody) more easily, while at the same time having more control over it \n",
        "through its parameters. The following function does exactly this, having \n",
        "only one parameter that controlls the length of the melody (the number of\n",
        "notes to be sampled).\n"
      ],
      "id": "d7032bc1"
    },
    {
      "cell_type": "code",
      "metadata": {},
      "source": [
        "def melody(n):\n",
        "    notes = list(\"CDEFGAB\")\n",
        "    return rng.choice(notes, size=n)"
      ],
      "id": "4c74cc18",
      "execution_count": null,
      "outputs": []
    },
    {
      "cell_type": "markdown",
      "metadata": {},
      "source": [
        "We can now use this function to easily create random melodies of \n",
        "different lengths:\n"
      ],
      "id": "b2e19fb6"
    },
    {
      "cell_type": "code",
      "metadata": {},
      "source": [
        "print(melody(7))"
      ],
      "id": "b262e31c",
      "execution_count": null,
      "outputs": []
    },
    {
      "cell_type": "code",
      "metadata": {},
      "source": [
        "print(melody(12))"
      ],
      "id": "ed5b7066",
      "execution_count": null,
      "outputs": []
    },
    {
      "cell_type": "markdown",
      "metadata": {},
      "source": [
        "## Synthesizing a corpus\n",
        "\n",
        "The functionalities introduced above allow us to synthesize an artificial corpus\n",
        "of melodies, here simplified as lists of pitch classes and containing varying\n",
        "numbers of notes.\n"
      ],
      "id": "eaa09fd2"
    },
    {
      "cell_type": "code",
      "metadata": {},
      "source": [
        "N = 4 # number of pieces in the corpus\n",
        "corpus = [ melody(12) for _ in range(N)]"
      ],
      "id": "101ac96b",
      "execution_count": null,
      "outputs": []
    },
    {
      "cell_type": "markdown",
      "metadata": {},
      "source": [
        "The first three melodies of our corpus are:\n"
      ],
      "id": "b31590b8"
    },
    {
      "cell_type": "code",
      "metadata": {},
      "source": [
        "for mel in corpus:\n",
        "    print(mel)"
      ],
      "id": "a504b116",
      "execution_count": null,
      "outputs": []
    },
    {
      "cell_type": "markdown",
      "metadata": {},
      "source": [
        "Of course, melodies are not always of the same length.\n",
        "We could vary the lenght of the melodies by creating a hand-crafted list\n",
        "specifying the number of notes for each melody in the corpus.\n"
      ],
      "id": "607286c9"
    },
    {
      "cell_type": "code",
      "metadata": {},
      "source": [
        "corpus = [ melody(n) for n in [10, 5, 7, 13] ]\n",
        "\n",
        "for mel in corpus:\n",
        "    print(mel)"
      ],
      "id": "70d4bf17",
      "execution_count": null,
      "outputs": []
    },
    {
      "cell_type": "markdown",
      "metadata": {},
      "source": [
        "However, specifying the lenghts of the melodies for a large corpus\n",
        "would be a very time-consuming task. In order to model the \n",
        "variability in length of melodies in a musical corpus, we will \n",
        "_randomly sample_ them from a specified probability distribution.\n",
        "A good candidate for such a distribution is the [Poisson distribution](https://en.wikipedia.org/wiki/Poisson_distribution),\n",
        "that we can access from our random number generator `rng`.\n"
      ],
      "id": "3b8b2ebc"
    },
    {
      "cell_type": "code",
      "metadata": {},
      "source": [
        "#| label: fig-piece-lengths\n",
        "#| fig-cap: Distribution of melody lengths in the corpus.\"\n",
        "\n",
        "lam = 25 # average number of notes in melody\n",
        "N = 1000 # number of pieces in the corpus \n",
        "\n",
        "corpus = [ melody(rng.poisson(lam=lam)) for _ in range(N) ]\n",
        "\n",
        "lengths = pd.Series([ len(m) for m in corpus ]).value_counts()\n",
        "\n",
        "idx = range(0, max(lengths))\n",
        "lengths = lengths.sort_index().reindex(idx).fillna(0)\n",
        "plt.bar(idx, lengths)\n",
        "plt.axvline(lam, c=\"red\")\n",
        "plt.show()"
      ],
      "id": "fig-piece-lengths",
      "execution_count": null,
      "outputs": []
    },
    {
      "cell_type": "markdown",
      "metadata": {},
      "source": [
        "Now the variable `corpus` contains lists of pitch classes (_aka_ melodies)\n",
        "of different lengths, most of them around the preset average value `lam`,[^1]\n",
        "also indicated by the vertical red line.\n",
        "It is moreover evident that the corpus contains rather few very short or long melodies.\n",
        "\n",
        "[^1]: Short for the Greek letter $\\lambda$ (\"lambda\").\n",
        "\n",
        "We can, of course, not only observe the distribution of melody lengths, but also \n",
        "look at the overall distribution of note occurrence in the corpus:\n"
      ],
      "id": "da8804ed"
    },
    {
      "cell_type": "code",
      "metadata": {},
      "source": [
        "#| label: fig-note-freqs\n",
        "#| fig-cap: Overall note frequencies in the artificial corpus.\n",
        "\n",
        "counts = []\n",
        "\n",
        "for m in corpus:\n",
        "    c = pd.Series(m)\n",
        "    counts.append(c)\n",
        "\n",
        "pd.concat(counts).value_counts().plot(kind=\"bar\")\n",
        "plt.show()"
      ],
      "id": "fig-note-freqs",
      "execution_count": null,
      "outputs": []
    },
    {
      "cell_type": "markdown",
      "metadata": {},
      "source": [
        "At this point, we should stop and celebrate. We have just written our first _probabilistic model_\n",
        "to generate melodies. Admittedly, it is not a very good model for actual melodies, for example\n",
        "because notes are drawn _uniformly at random_ from the set of diatonic pitch classes\n",
        "using the `.choice()` method, which leads to the somewhat unrealistic picture in @fig-note-freqs.\n",
        "One would expect that in real melodies some notes occur more often than others\n",
        "and that the occurrence of a note does, for instance, also depend on the notes that come before and after it.\n",
        "But, in principle, these other constraints could be added to our model to make it more realistic.\n",
        "The point here was mainly to illustrate how artificial corpora can be generated probabilistically.\n",
        "This will prove useful later on because it allows us to compare real-world corpora of music against \n",
        "synthetic ones generated by our models.\n",
        "\n",
        "::: {.callout-tip}\n",
        "## Exercise\n",
        "\n",
        "Expand our melody model so that it also includes octave information for each pitch class\n",
        "in order to make it a bit more musical.\n",
        ":::\n",
        "\n",
        "## Pattern search\n",
        "\n",
        "### Incipits \n",
        "\n",
        "Now that we have a corpus that we understand very well because we specified \n",
        "how it has been created, we can apply some simple analytical questions in order \n",
        "to warm up for later. For instance, we could want to have a function that \n",
        "allows us to search for _incipits_. Incipits are the beginnings of musical melodies\n",
        "that already to characterize themes and motives because incipits are often characteristic. \n",
        "For example, we would want to look for all melodies that begin with \"C\", \"D\", \"E\" and, \n",
        "for simplicity, we might want to pass a string like \"CDE\" to the function to facilitate the input.\n"
      ],
      "id": "9adb6edc"
    },
    {
      "cell_type": "code",
      "metadata": {},
      "source": [
        "import re \n",
        "\n",
        "def find_incipit(incip=\"\", mel=None):\n",
        "    melody = \"\".join(mel)\n",
        "    if re.search(\"^\" + incip, melody):\n",
        "        return True\n",
        "    else:\n",
        "        return False\n",
        "\n",
        "for m in corpus[:10]:\n",
        "    if find_incipit(incip=\"CDE\", mel=m):\n",
        "        print(\"\".join(m))"
      ],
      "id": "023a14ac",
      "execution_count": null,
      "outputs": []
    },
    {
      "cell_type": "markdown",
      "metadata": {},
      "source": [
        "### Finals\n",
        "\n",
        "We can apply a similar logic to find finals, the \n",
        "last notes of a melody. Instead of only allowing\n",
        "to search for a single note as a final, we will \n",
        "allow more generally to allow for a pattern that concludes\n",
        "a melody:\n"
      ],
      "id": "83563ddb"
    },
    {
      "cell_type": "code",
      "metadata": {},
      "source": [
        "def find_finals(end=\"\", mel=None):\n",
        "    melody = \"\".join(mel)\n",
        "    if re.search(end + \"$\", melody):\n",
        "        return True \n",
        "\n",
        "for m in corpus[:100]:\n",
        "    if find_finals(end=\"GC\", mel=m):\n",
        "        print(m)"
      ],
      "id": "1a7cee61",
      "execution_count": null,
      "outputs": []
    },
    {
      "cell_type": "markdown",
      "metadata": {},
      "source": [
        "As you can see, all found melodies end with a falling perfect\n",
        "fifth form \"G\" to \"C\".\n",
        "\n",
        "The last function, `find_finals()`, \n",
        "introduced the \"^\" (caret) character.\n",
        "In the context of regular expressions, this character signifies \n",
        "\"at the end of a string\", exactly what we needed to find finals.\n",
        "\n",
        "### Patterns more generally\n",
        "\n",
        "::: {.callout-warning}\n",
        "## Todo\n",
        "Introduce regexes more flexibly and write a general pattern matcher.\n",
        ":::\n",
        "\n",
        "## Horrible Homophony\n",
        "\n",
        "Four-part writing is a core part of Western composition history.\n",
        "Here, we will build a mock version of a four-part chorale by randomly \n",
        "generating each voice and putting them together in a table. \n",
        "Doing so will show you how you can create tables, which we will need later on.\n",
        "The most popular way to work with tables in Python is by using the `pandas` library. \n",
        "In `pandas`, tables are called 'data frames', and there is a `DataFrame`\n",
        "object to represent tables. Let's see how we could create a four-part homophonic \n",
        "chorale with eight 'chords':\n"
      ],
      "id": "3df5d28d"
    },
    {
      "cell_type": "code",
      "metadata": {},
      "source": [
        "import pandas as pd\n",
        "\n",
        "n = 8\n",
        "\n",
        "chorale = pd.DataFrame({\n",
        "    \"S\" : melody(n),\n",
        "    \"A\" : melody(n),\n",
        "    \"T\" : melody(n),\n",
        "    \"B\" : melody(n)\n",
        "})"
      ],
      "id": "5b9423b4",
      "execution_count": null,
      "outputs": []
    },
    {
      "cell_type": "markdown",
      "metadata": {},
      "source": [
        "The variable `chorale` now stores our little composition and we can inspect it:\n"
      ],
      "id": "49b473d0"
    },
    {
      "cell_type": "code",
      "metadata": {},
      "source": [
        "chorale"
      ],
      "id": "386b839f",
      "execution_count": null,
      "outputs": []
    },
    {
      "cell_type": "markdown",
      "metadata": {},
      "source": [
        "Here we have generated each voice using the `melody` function. \n",
        "We can use it to create a new function that will directly give us a new \n",
        "chorale of a certain length:\n"
      ],
      "id": "7dafecd2"
    },
    {
      "cell_type": "code",
      "metadata": {},
      "source": [
        "def chorale(n):\n",
        "    df = pd.DataFrame({\n",
        "        \"S\" : melody(n=n),\n",
        "        \"A\" : melody(n=n),\n",
        "        \"T\" : melody(n=n),\n",
        "        \"B\" : melody(n=n)\n",
        "    })\n",
        "\n",
        "    return df"
      ],
      "id": "4b5545a6",
      "execution_count": null,
      "outputs": []
    },
    {
      "cell_type": "code",
      "metadata": {},
      "source": [
        "my_chorale = chorale(n=12)\n",
        "my_chorale"
      ],
      "id": "f6756221",
      "execution_count": null,
      "outputs": []
    },
    {
      "cell_type": "markdown",
      "metadata": {},
      "source": [
        "It will look a bit closer to musical notation if \n",
        "we transpose the data frame by using the `.transpose()` method:\n"
      ],
      "id": "fe4616ba"
    },
    {
      "cell_type": "code",
      "metadata": {},
      "source": [
        "my_chorale.transpose()"
      ],
      "id": "6bae7a0a",
      "execution_count": null,
      "outputs": []
    },
    {
      "cell_type": "markdown",
      "metadata": {},
      "source": [
        "## Accessing data\n",
        "\n",
        "Having the variable `my_chorale` store our data frame, \n",
        "this is how we can access individual voices:\n"
      ],
      "id": "392924c5"
    },
    {
      "cell_type": "code",
      "metadata": {},
      "source": [
        "my_chorale[\"T\"]"
      ],
      "id": "d5597209",
      "execution_count": null,
      "outputs": []
    },
    {
      "cell_type": "markdown",
      "metadata": {},
      "source": [
        "You can verify that it is the same 'melody' as above in the chorale. \n",
        "If we want a specific note from this voice, say the fifth one, \n",
        "we can access is this way:\n"
      ],
      "id": "2b903c5d"
    },
    {
      "cell_type": "code",
      "metadata": {},
      "source": [
        "my_chorale[\"T\"][4]"
      ],
      "id": "e99c5d1f",
      "execution_count": null,
      "outputs": []
    },
    {
      "cell_type": "markdown",
      "metadata": {},
      "source": [
        "We first select the \"T\" column, and then select the fifth element \n",
        "(remember that we start counting at 0, so we need to insert 4 to get the \n",
        "fifth). We can also get entire ranges of a voice:\n"
      ],
      "id": "fd831ce7"
    },
    {
      "cell_type": "code",
      "metadata": {},
      "source": [
        "my_chorale[\"A\"][4:8]"
      ],
      "id": "0867eae2",
      "execution_count": null,
      "outputs": []
    },
    {
      "cell_type": "markdown",
      "metadata": {},
      "source": [
        "This gives us the fifths to ninth note in the Alto voice. \n",
        "If we want to apply the same logic also to column ranges, \n",
        "we have to write it a bit differently using the `.loc()`\n",
        "method for localising data:\n"
      ],
      "id": "6c705f56"
    },
    {
      "cell_type": "code",
      "metadata": {},
      "source": [
        "my_chorale.loc[1:3, \"S\":\"A\"]"
      ],
      "id": "640eec77",
      "execution_count": null,
      "outputs": []
    },
    {
      "cell_type": "markdown",
      "metadata": {},
      "source": [
        "`.loc()` takes two arguments: the rows (or row range),\n",
        "and the columns (or column range). We can use it to 'slice'\n",
        "our data frame in order to get specific portions of it."
      ],
      "id": "df2b1f81"
    }
  ],
  "metadata": {
    "kernelspec": {
      "name": "llm",
      "language": "python",
      "display_name": "Python (llm)"
    }
  },
  "nbformat": 4,
  "nbformat_minor": 5
}